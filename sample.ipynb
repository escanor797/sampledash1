{
 "cells": [
  {
   "cell_type": "code",
   "execution_count": 2,
   "id": "2f2d0b03",
   "metadata": {},
   "outputs": [],
   "source": [
    "import pandas as pd\n",
    "import numpy as np\n",
    "import matplotlib.pyplot as plt\n",
    "import seaborn as sns\n",
    "%matplotlib inline"
   ]
  },
  {
   "cell_type": "code",
   "execution_count": 3,
   "id": "39bfb9e7",
   "metadata": {},
   "outputs": [],
   "source": [
    "df=pd.read_csv('airports_list.csv')"
   ]
  },
  {
   "cell_type": "code",
   "execution_count": 4,
   "id": "c67516b1",
   "metadata": {},
   "outputs": [
    {
     "data": {
      "text/html": [
       "<div>\n",
       "<style scoped>\n",
       "    .dataframe tbody tr th:only-of-type {\n",
       "        vertical-align: middle;\n",
       "    }\n",
       "\n",
       "    .dataframe tbody tr th {\n",
       "        vertical-align: top;\n",
       "    }\n",
       "\n",
       "    .dataframe thead th {\n",
       "        text-align: right;\n",
       "    }\n",
       "</style>\n",
       "<table border=\"1\" class=\"dataframe\">\n",
       "  <thead>\n",
       "    <tr style=\"text-align: right;\">\n",
       "      <th></th>\n",
       "      <th>ORIGIN_AIRPORT_ID</th>\n",
       "      <th>DISPLAY_AIRPORT_NAME</th>\n",
       "      <th>ORIGIN_CITY_NAME</th>\n",
       "      <th>NAME</th>\n",
       "    </tr>\n",
       "  </thead>\n",
       "  <tbody>\n",
       "    <tr>\n",
       "      <th>0</th>\n",
       "      <td>12992</td>\n",
       "      <td>Adams Field</td>\n",
       "      <td>Little Rock, AR</td>\n",
       "      <td>NORTH LITTLE ROCK AIRPORT, AR US</td>\n",
       "    </tr>\n",
       "    <tr>\n",
       "      <th>1</th>\n",
       "      <td>10257</td>\n",
       "      <td>Albany International</td>\n",
       "      <td>Albany, NY</td>\n",
       "      <td>ALBANY INTERNATIONAL AIRPORT, NY US</td>\n",
       "    </tr>\n",
       "    <tr>\n",
       "      <th>2</th>\n",
       "      <td>10140</td>\n",
       "      <td>Albuquerque International Sunport</td>\n",
       "      <td>Albuquerque, NM</td>\n",
       "      <td>ALBUQUERQUE INTERNATIONAL AIRPORT, NM US</td>\n",
       "    </tr>\n",
       "    <tr>\n",
       "      <th>3</th>\n",
       "      <td>10299</td>\n",
       "      <td>Anchorage International</td>\n",
       "      <td>Anchorage, AK</td>\n",
       "      <td>ANCHORAGE TED STEVENS INTERNATIONAL AIRPORT, A...</td>\n",
       "    </tr>\n",
       "    <tr>\n",
       "      <th>4</th>\n",
       "      <td>10397</td>\n",
       "      <td>Atlanta Municipal</td>\n",
       "      <td>Atlanta, GA</td>\n",
       "      <td>ATLANTA HARTSFIELD JACKSON INTERNATIONAL AIRPO...</td>\n",
       "    </tr>\n",
       "    <tr>\n",
       "      <th>...</th>\n",
       "      <td>...</td>\n",
       "      <td>...</td>\n",
       "      <td>...</td>\n",
       "      <td>...</td>\n",
       "    </tr>\n",
       "    <tr>\n",
       "      <th>92</th>\n",
       "      <td>15370</td>\n",
       "      <td>Tulsa International</td>\n",
       "      <td>Tulsa, OK</td>\n",
       "      <td>OKLAHOMA CITY WILL ROGERS WORLD AIRPORT, OK US</td>\n",
       "    </tr>\n",
       "    <tr>\n",
       "      <th>93</th>\n",
       "      <td>12264</td>\n",
       "      <td>Washington Dulles International</td>\n",
       "      <td>Washington, DC</td>\n",
       "      <td>WASHINGTON DULLES INTERNATIONAL AIRPORT, VA US</td>\n",
       "    </tr>\n",
       "    <tr>\n",
       "      <th>94</th>\n",
       "      <td>13851</td>\n",
       "      <td>Will Rogers World</td>\n",
       "      <td>Oklahoma City, OK</td>\n",
       "      <td>OKLAHOMA CITY WILL ROGERS WORLD AIRPORT, OK US</td>\n",
       "    </tr>\n",
       "    <tr>\n",
       "      <th>95</th>\n",
       "      <td>12191</td>\n",
       "      <td>William P Hobby</td>\n",
       "      <td>Houston, TX</td>\n",
       "      <td>HOUSTON WILLIAM P HOBBY AIRPORT, TX US</td>\n",
       "    </tr>\n",
       "    <tr>\n",
       "      <th>96</th>\n",
       "      <td>10713</td>\n",
       "      <td>Boise Air Terminal</td>\n",
       "      <td>Boise, ID</td>\n",
       "      <td>BOISE AIR TERMINAL, ID US</td>\n",
       "    </tr>\n",
       "  </tbody>\n",
       "</table>\n",
       "<p>97 rows × 4 columns</p>\n",
       "</div>"
      ],
      "text/plain": [
       "    ORIGIN_AIRPORT_ID               DISPLAY_AIRPORT_NAME   ORIGIN_CITY_NAME  \\\n",
       "0               12992                        Adams Field    Little Rock, AR   \n",
       "1               10257               Albany International         Albany, NY   \n",
       "2               10140  Albuquerque International Sunport    Albuquerque, NM   \n",
       "3               10299            Anchorage International      Anchorage, AK   \n",
       "4               10397                  Atlanta Municipal        Atlanta, GA   \n",
       "..                ...                                ...                ...   \n",
       "92              15370                Tulsa International          Tulsa, OK   \n",
       "93              12264    Washington Dulles International     Washington, DC   \n",
       "94              13851                  Will Rogers World  Oklahoma City, OK   \n",
       "95              12191                    William P Hobby        Houston, TX   \n",
       "96              10713                 Boise Air Terminal          Boise, ID   \n",
       "\n",
       "                                                 NAME  \n",
       "0                    NORTH LITTLE ROCK AIRPORT, AR US  \n",
       "1                 ALBANY INTERNATIONAL AIRPORT, NY US  \n",
       "2            ALBUQUERQUE INTERNATIONAL AIRPORT, NM US  \n",
       "3   ANCHORAGE TED STEVENS INTERNATIONAL AIRPORT, A...  \n",
       "4   ATLANTA HARTSFIELD JACKSON INTERNATIONAL AIRPO...  \n",
       "..                                                ...  \n",
       "92     OKLAHOMA CITY WILL ROGERS WORLD AIRPORT, OK US  \n",
       "93     WASHINGTON DULLES INTERNATIONAL AIRPORT, VA US  \n",
       "94     OKLAHOMA CITY WILL ROGERS WORLD AIRPORT, OK US  \n",
       "95             HOUSTON WILLIAM P HOBBY AIRPORT, TX US  \n",
       "96                          BOISE AIR TERMINAL, ID US  \n",
       "\n",
       "[97 rows x 4 columns]"
      ]
     },
     "execution_count": 4,
     "metadata": {},
     "output_type": "execute_result"
    }
   ],
   "source": [
    "df"
   ]
  },
  {
   "cell_type": "code",
   "execution_count": 5,
   "id": "65951458",
   "metadata": {},
   "outputs": [
    {
     "data": {
      "text/plain": [
       "<AxesSubplot:xlabel='ORIGIN_CITY_NAME', ylabel='count'>"
      ]
     },
     "execution_count": 5,
     "metadata": {},
     "output_type": "execute_result"
    },
    {
     "data": {
      "image/png": "[encoded data removed]",
      "text/plain": [
       "<Figure size 432x288 with 1 Axes>"
      ]
     },
     "metadata": {},
     "output_type": "display_data"
    }
   ],
   "source": [
    "sns.set_style('whitegrid')\n",
    "sns.countplot(x='ORIGIN_CITY_NAME',data=df)"
   ]
  },
  {
   "cell_type": "code",
   "execution_count": 6,
   "id": "07aa1879",
   "metadata": {},
   "outputs": [
    {
     "name": "stdout",
     "output_type": "stream",
     "text": [
      "Collecting package metadata (current_repodata.json): ...working... done\n",
      "Solving environment: ...working... done\n",
      "\n",
      "## Package Plan ##\n",
      "\n",
      "  environment location: C:\\Users\\escanor\\anaconda3\n",
      "\n",
      "  added / updated specs:\n",
      "    - voila\n",
      "\n",
      "\n",
      "The following packages will be downloaded:\n",
      "\n",
      "    package                    |            build\n",
      "    ---------------------------|-----------------\n",
      "    conda-22.9.0               |   py39hcbf5309_2         985 KB  conda-forge\n",
      "    python_abi-3.9             |           2_cp39           4 KB  conda-forge\n",
      "    voila-0.2.16               |     pyhd8ed1ab_0         1.4 MB  conda-forge\n",
      "    ------------------------------------------------------------\n",
      "                                           Total:         2.4 MB\n",
      "\n",
      "The following NEW packages will be INSTALLED:\n",
      "\n",
      "  python_abi         conda-forge/win-64::python_abi-3.9-2_cp39\n",
      "  voila              conda-forge/noarch::voila-0.2.16-pyhd8ed1ab_0\n",
      "\n",
      "The following packages will be UPDATED:\n",
      "\n",
      "  conda              pkgs/main::conda-4.10.3-py39haa95532_0 --> conda-forge::conda-22.9.0-py39hcbf5309_2\n",
      "\n",
      "\n",
      "\n",
      "Downloading and Extracting Packages\n",
      "\n",
      "python_abi-3.9       | 4 KB      |            |   0% \n",
      "python_abi-3.9       | 4 KB      | ########## | 100% \n",
      "python_abi-3.9       | 4 KB      | ########## | 100% \n",
      "\n",
      "conda-22.9.0         | 985 KB    |            |   0% \n",
      "conda-22.9.0         | 985 KB    | #6         |  16% \n",
      "conda-22.9.0         | 985 KB    | ########## | 100% \n",
      "conda-22.9.0         | 985 KB    | ########## | 100% \n",
      "\n",
      "voila-0.2.16         | 1.4 MB    |            |   0% \n",
      "voila-0.2.16         | 1.4 MB    | 1          |   1% \n",
      "voila-0.2.16         | 1.4 MB    | 8          |   9% \n",
      "voila-0.2.16         | 1.4 MB    | ###        |  31% \n",
      "voila-0.2.16         | 1.4 MB    | ####3      |  44% \n",
      "voila-0.2.16         | 1.4 MB    | #####5     |  56% \n",
      "voila-0.2.16         | 1.4 MB    | ########## | 100% \n",
      "voila-0.2.16         | 1.4 MB    | ########## | 100% \n",
      "Preparing transaction: ...working... done\n",
      "Verifying transaction: ...working... done\n",
      "Executing transaction: ...working... done\n",
      "\n",
      "Note: you may need to restart the kernel to use updated packages.\n"
     ]
    },
    {
     "name": "stderr",
     "output_type": "stream",
     "text": [
      "\n",
      "\n",
      "==> WARNING: A newer version of conda exists. <==\n",
      "  current version: 4.10.3\n",
      "  latest version: 22.9.0\n",
      "\n",
      "Please update conda by running\n",
      "\n",
      "    $ conda update -n base -c defaults conda\n",
      "\n",
      "\n"
     ]
    }
   ],
   "source": [
    "conda install voila -c conda-forge"
   ]
  },
  {
   "cell_type": "code",
   "execution_count": 7,
   "id": "1b4f13fb",
   "metadata": {},
   "outputs": [
    {
     "name": "stdout",
     "output_type": "stream",
     "text": [
      "Collecting package metadata (current_repodata.json): ...working... done\n",
      "Solving environment: ...working... done\n",
      "\n",
      "## Package Plan ##\n",
      "\n",
      "  environment location: C:\\Users\\escanor\\anaconda3\n",
      "\n",
      "  added / updated specs:\n",
      "    - conda\n",
      "\n",
      "\n",
      "The following packages will be downloaded:\n",
      "\n",
      "    package                    |            build\n",
      "    ---------------------------|-----------------\n",
      "    conda-22.9.0               |   py39haa95532_0         888 KB\n",
      "    conda-package-handling-1.9.0|   py39h8cc25b3_1         744 KB\n",
      "    pyjwt-2.4.0                |   py39haa95532_0          38 KB\n",
      "    ------------------------------------------------------------\n",
      "                                           Total:         1.6 MB\n",
      "\n",
      "The following packages will be REMOVED:\n",
      "\n",
      "  python_abi-3.9-2_cp39\n",
      "\n",
      "The following packages will be UPDATED:\n",
      "\n",
      "  conda-package-han~                   1.7.3-py39h8cc25b3_1 --> 1.9.0-py39h8cc25b3_1 None\n",
      "  pyjwt                                2.1.0-py39haa95532_0 --> 2.4.0-py39haa95532_0 None\n",
      "\n",
      "The following packages will be SUPERSEDED by a higher-priority channel:\n",
      "\n",
      "  conda              conda-forge::conda-22.9.0-py39hcbf530~ --> pkgs/main::conda-22.9.0-py39haa95532_0 None\n",
      "\n",
      "\n",
      "\n",
      "Downloading and Extracting Packages\n",
      "\n",
      "pyjwt-2.4.0          | 38 KB     |            |   0% \n",
      "pyjwt-2.4.0          | 38 KB     | ########## | 100% \n",
      "pyjwt-2.4.0          | 38 KB     | ########## | 100% \n",
      "\n",
      "conda-22.9.0         | 888 KB    |            |   0% \n",
      "conda-22.9.0         | 888 KB    | ########## | 100% \n",
      "conda-22.9.0         | 888 KB    | ########## | 100% \n",
      "\n",
      "conda-package-handli | 744 KB    |            |   0% \n",
      "conda-package-handli | 744 KB    | ########## | 100% \n",
      "conda-package-handli | 744 KB    | ########## | 100% \n",
      "Preparing transaction: ...working... done\n",
      "Verifying transaction: ...working... done\n",
      "Executing transaction: ...working... done\n",
      "Retrieving notices: ...working... done\n",
      "\n",
      "Note: you may need to restart the kernel to use updated packages.\n"
     ]
    }
   ],
   "source": [
    "conda update -n base -c defaults conda"
   ]
  },
  {
   "cell_type": "code",
   "execution_count": 2,
   "id": "3469f71c",
   "metadata": {},
   "outputs": [
    {
     "ename": "SyntaxError",
     "evalue": "invalid syntax (Temp/ipykernel_7512/3735415273.py, line 1)",
     "output_type": "error",
     "traceback": [
      "\u001b[1;36m  File \u001b[1;32m\"C:\\Users\\escanor\\AppData\\Local\\Temp/ipykernel_7512/3735415273.py\"\u001b[1;36m, line \u001b[1;32m1\u001b[0m\n\u001b[1;33m    voila C:\\Users\\escanor\\Downloads\\archive (19)\\raw_data\\Untitled.ipynb\u001b[0m\n\u001b[1;37m          ^\u001b[0m\n\u001b[1;31mSyntaxError\u001b[0m\u001b[1;31m:\u001b[0m invalid syntax\n"
     ]
    }
   ],
   "source": [
    "voila C:\\Users\\escanor\\Downloads\\archive (19)\\raw_data\\Untitled.ipynb"
   ]
  },
  {
   "cell_type": "code",
   "execution_count": null,
   "id": "8f730396",
   "metadata": {},
   "outputs": [],
   "source": []
  }
 ],
 "metadata": {
  "kernelspec": {
   "display_name": "Python 3 (ipykernel)",
   "language": "python",
   "name": "python3"
  },
  "language_info": {
   "codemirror_mode": {
    "name": "ipython",
    "version": 3
   },
   "file_extension": ".py",
   "mimetype": "text/x-python",
   "name": "python",
   "nbconvert_exporter": "python",
   "pygments_lexer": "ipython3",
   "version": "3.9.7"
  }
 },
 "nbformat": 4,
 "nbformat_minor": 5
}
